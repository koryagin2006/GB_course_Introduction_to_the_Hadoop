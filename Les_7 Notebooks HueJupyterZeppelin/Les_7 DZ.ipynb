{
 "cells": [
  {
   "cell_type": "markdown",
   "metadata": {},
   "source": [
    "## Импорт библиотек"
   ]
  },
  {
   "cell_type": "code",
   "execution_count": 180,
   "metadata": {},
   "outputs": [],
   "source": [
    "import happybase\n",
    "import pandas as pd\n",
    "import matplotlib.pyplot as plt\n",
    "import seaborn as sns"
   ]
  },
  {
   "cell_type": "code",
   "execution_count": 181,
   "metadata": {},
   "outputs": [],
   "source": [
    "%matplotlib inline"
   ]
  },
  {
   "cell_type": "markdown",
   "metadata": {},
   "source": [
    "## Подключение в HBase"
   ]
  },
  {
   "cell_type": "code",
   "execution_count": 109,
   "metadata": {},
   "outputs": [],
   "source": [
    "connection = happybase.Connection(host='89.208.221.132', port=9090, autoconnect=True)\n",
    "table = connection.table('student4_6')\n",
    "connection.open()"
   ]
  },
  {
   "cell_type": "markdown",
   "metadata": {},
   "source": [
    "## Скачивание таблицы БД"
   ]
  },
  {
   "cell_type": "code",
   "execution_count": 110,
   "metadata": {},
   "outputs": [],
   "source": [
    "cron = []\n",
    "for key, data in table.scan():\n",
    "    cron.append(data)\n",
    "\n",
    "connection.close()"
   ]
  },
  {
   "cell_type": "markdown",
   "metadata": {},
   "source": [
    "## Создание DataFrame"
   ]
  },
  {
   "cell_type": "code",
   "execution_count": 111,
   "metadata": {},
   "outputs": [],
   "source": [
    "df = pd.DataFrame(cron)"
   ]
  },
  {
   "cell_type": "code",
   "execution_count": 112,
   "metadata": {},
   "outputs": [
    {
     "name": "stdout",
     "output_type": "stream",
     "text": [
      "(285, 1)\n"
     ]
    },
    {
     "data": {
      "text/html": [
       "<div>\n",
       "<style scoped>\n",
       "    .dataframe tbody tr th:only-of-type {\n",
       "        vertical-align: middle;\n",
       "    }\n",
       "\n",
       "    .dataframe tbody tr th {\n",
       "        vertical-align: top;\n",
       "    }\n",
       "\n",
       "    .dataframe thead th {\n",
       "        text-align: right;\n",
       "    }\n",
       "</style>\n",
       "<table border=\"1\" class=\"dataframe\">\n",
       "  <thead>\n",
       "    <tr style=\"text-align: right;\">\n",
       "      <th></th>\n",
       "      <th>b'Cron:payload'</th>\n",
       "    </tr>\n",
       "  </thead>\n",
       "  <tbody>\n",
       "    <tr>\n",
       "      <td>0</td>\n",
       "      <td>b'Jul  2 16:01:01 node1 CROND[18436]: (root) C...</td>\n",
       "    </tr>\n",
       "    <tr>\n",
       "      <td>1</td>\n",
       "      <td>b'Jul  2 16:01:01 node1 run-parts(/etc/cron.ho...</td>\n",
       "    </tr>\n",
       "    <tr>\n",
       "      <td>2</td>\n",
       "      <td>b'Jul  2 16:01:01 node1 run-parts(/etc/cron.ho...</td>\n",
       "    </tr>\n",
       "  </tbody>\n",
       "</table>\n",
       "</div>"
      ],
      "text/plain": [
       "                                     b'Cron:payload'\n",
       "0  b'Jul  2 16:01:01 node1 CROND[18436]: (root) C...\n",
       "1  b'Jul  2 16:01:01 node1 run-parts(/etc/cron.ho...\n",
       "2  b'Jul  2 16:01:01 node1 run-parts(/etc/cron.ho..."
      ]
     },
     "execution_count": 112,
     "metadata": {},
     "output_type": "execute_result"
    }
   ],
   "source": [
    "print(df.shape)\n",
    "df.head(3)"
   ]
  },
  {
   "cell_type": "code",
   "execution_count": 113,
   "metadata": {},
   "outputs": [],
   "source": [
    "df = df.rename(columns={list(df)[0]: \"t\"})"
   ]
  },
  {
   "cell_type": "code",
   "execution_count": 114,
   "metadata": {},
   "outputs": [
    {
     "name": "stdout",
     "output_type": "stream",
     "text": [
      "<class 'pandas.core.frame.DataFrame'>\n",
      "RangeIndex: 285 entries, 0 to 284\n",
      "Data columns (total 1 columns):\n",
      "t    285 non-null object\n",
      "dtypes: object(1)\n",
      "memory usage: 2.4+ KB\n"
     ]
    }
   ],
   "source": [
    "df.info()"
   ]
  },
  {
   "cell_type": "code",
   "execution_count": 115,
   "metadata": {},
   "outputs": [],
   "source": [
    "def change_values(val):\n",
    "    \"\"\"изменение\"\"\"\n",
    "    val = str(val)\n",
    "    val = val.replace('b', '')\n",
    "    val = val.replace(\"'\", \"\")\n",
    "    return val"
   ]
  },
  {
   "cell_type": "markdown",
   "metadata": {},
   "source": [
    "## Разделение на столбцы"
   ]
  },
  {
   "cell_type": "code",
   "execution_count": 116,
   "metadata": {},
   "outputs": [],
   "source": [
    "df = df.t.apply(change_values).str.split(expand=True)"
   ]
  },
  {
   "cell_type": "code",
   "execution_count": 117,
   "metadata": {},
   "outputs": [
    {
     "data": {
      "text/html": [
       "<div>\n",
       "<style scoped>\n",
       "    .dataframe tbody tr th:only-of-type {\n",
       "        vertical-align: middle;\n",
       "    }\n",
       "\n",
       "    .dataframe tbody tr th {\n",
       "        vertical-align: top;\n",
       "    }\n",
       "\n",
       "    .dataframe thead th {\n",
       "        text-align: right;\n",
       "    }\n",
       "</style>\n",
       "<table border=\"1\" class=\"dataframe\">\n",
       "  <thead>\n",
       "    <tr style=\"text-align: right;\">\n",
       "      <th></th>\n",
       "      <th>0</th>\n",
       "      <th>1</th>\n",
       "      <th>2</th>\n",
       "      <th>3</th>\n",
       "      <th>4</th>\n",
       "      <th>5</th>\n",
       "      <th>6</th>\n",
       "      <th>7</th>\n",
       "      <th>8</th>\n",
       "      <th>9</th>\n",
       "      <th>10</th>\n",
       "      <th>11</th>\n",
       "    </tr>\n",
       "  </thead>\n",
       "  <tbody>\n",
       "    <tr>\n",
       "      <td>282</td>\n",
       "      <td>Jul</td>\n",
       "      <td>5</td>\n",
       "      <td>18:01:01</td>\n",
       "      <td>node1</td>\n",
       "      <td>run-parts(/etc/cron.hourly)[15374]:</td>\n",
       "      <td>starting</td>\n",
       "      <td>0anacron</td>\n",
       "      <td>None</td>\n",
       "      <td>None</td>\n",
       "      <td>None</td>\n",
       "      <td>None</td>\n",
       "      <td>None</td>\n",
       "    </tr>\n",
       "    <tr>\n",
       "      <td>283</td>\n",
       "      <td>Jul</td>\n",
       "      <td>5</td>\n",
       "      <td>18:01:01</td>\n",
       "      <td>node1</td>\n",
       "      <td>run-parts(/etc/cron.hourly)[15383]:</td>\n",
       "      <td>finished</td>\n",
       "      <td>0anacron</td>\n",
       "      <td>None</td>\n",
       "      <td>None</td>\n",
       "      <td>None</td>\n",
       "      <td>None</td>\n",
       "      <td>None</td>\n",
       "    </tr>\n",
       "    <tr>\n",
       "      <td>284</td>\n",
       "      <td>Jul</td>\n",
       "      <td>5</td>\n",
       "      <td>18:30:01</td>\n",
       "      <td>node1</td>\n",
       "      <td>CROND[30776]:</td>\n",
       "      <td>(yarn)</td>\n",
       "      <td>CMD</td>\n",
       "      <td>(sh</td>\n",
       "      <td>/tmp/update.sh</td>\n",
       "      <td>&gt;/dev/null</td>\n",
       "      <td>2&gt;&amp;1)</td>\n",
       "      <td>None</td>\n",
       "    </tr>\n",
       "  </tbody>\n",
       "</table>\n",
       "</div>"
      ],
      "text/plain": [
       "       0  1         2      3                                    4         5  \\\n",
       "282  Jul  5  18:01:01  node1  run-parts(/etc/cron.hourly)[15374]:  starting   \n",
       "283  Jul  5  18:01:01  node1  run-parts(/etc/cron.hourly)[15383]:  finished   \n",
       "284  Jul  5  18:30:01  node1                        CROND[30776]:    (yarn)   \n",
       "\n",
       "            6     7               8           9     10    11  \n",
       "282  0anacron  None            None        None   None  None  \n",
       "283  0anacron  None            None        None   None  None  \n",
       "284       CMD   (sh  /tmp/update.sh  >/dev/null  2>&1)  None  "
      ]
     },
     "execution_count": 117,
     "metadata": {},
     "output_type": "execute_result"
    }
   ],
   "source": [
    "df.tail(3)"
   ]
  },
  {
   "cell_type": "code",
   "execution_count": 118,
   "metadata": {},
   "outputs": [],
   "source": [
    "a = df.values[:, 0].copy()\n",
    "for j in range(1, 3):\n",
    "    a += ' ' + df.values[:, j]\n",
    "pd.Series(a)\n",
    "\n",
    "df['time'] = a"
   ]
  },
  {
   "cell_type": "code",
   "execution_count": 119,
   "metadata": {},
   "outputs": [
    {
     "data": {
      "text/html": [
       "<div>\n",
       "<style scoped>\n",
       "    .dataframe tbody tr th:only-of-type {\n",
       "        vertical-align: middle;\n",
       "    }\n",
       "\n",
       "    .dataframe tbody tr th {\n",
       "        vertical-align: top;\n",
       "    }\n",
       "\n",
       "    .dataframe thead th {\n",
       "        text-align: right;\n",
       "    }\n",
       "</style>\n",
       "<table border=\"1\" class=\"dataframe\">\n",
       "  <thead>\n",
       "    <tr style=\"text-align: right;\">\n",
       "      <th></th>\n",
       "      <th>0</th>\n",
       "      <th>1</th>\n",
       "      <th>2</th>\n",
       "      <th>3</th>\n",
       "      <th>4</th>\n",
       "      <th>5</th>\n",
       "      <th>6</th>\n",
       "      <th>7</th>\n",
       "      <th>8</th>\n",
       "      <th>9</th>\n",
       "      <th>10</th>\n",
       "      <th>11</th>\n",
       "      <th>time</th>\n",
       "    </tr>\n",
       "  </thead>\n",
       "  <tbody>\n",
       "    <tr>\n",
       "      <td>0</td>\n",
       "      <td>Jul</td>\n",
       "      <td>2</td>\n",
       "      <td>16:01:01</td>\n",
       "      <td>node1</td>\n",
       "      <td>CROND[18436]:</td>\n",
       "      <td>(root)</td>\n",
       "      <td>CMD</td>\n",
       "      <td>(run-parts</td>\n",
       "      <td>/etc/cron.hourly)</td>\n",
       "      <td>None</td>\n",
       "      <td>None</td>\n",
       "      <td>None</td>\n",
       "      <td>Jul 2 16:01:01</td>\n",
       "    </tr>\n",
       "    <tr>\n",
       "      <td>1</td>\n",
       "      <td>Jul</td>\n",
       "      <td>2</td>\n",
       "      <td>16:01:01</td>\n",
       "      <td>node1</td>\n",
       "      <td>run-parts(/etc/cron.hourly)[18436]:</td>\n",
       "      <td>starting</td>\n",
       "      <td>0anacron</td>\n",
       "      <td>None</td>\n",
       "      <td>None</td>\n",
       "      <td>None</td>\n",
       "      <td>None</td>\n",
       "      <td>None</td>\n",
       "      <td>Jul 2 16:01:01</td>\n",
       "    </tr>\n",
       "    <tr>\n",
       "      <td>2</td>\n",
       "      <td>Jul</td>\n",
       "      <td>2</td>\n",
       "      <td>16:01:01</td>\n",
       "      <td>node1</td>\n",
       "      <td>run-parts(/etc/cron.hourly)[18445]:</td>\n",
       "      <td>finished</td>\n",
       "      <td>0anacron</td>\n",
       "      <td>None</td>\n",
       "      <td>None</td>\n",
       "      <td>None</td>\n",
       "      <td>None</td>\n",
       "      <td>None</td>\n",
       "      <td>Jul 2 16:01:01</td>\n",
       "    </tr>\n",
       "  </tbody>\n",
       "</table>\n",
       "</div>"
      ],
      "text/plain": [
       "     0  1         2      3                                    4         5  \\\n",
       "0  Jul  2  16:01:01  node1                        CROND[18436]:    (root)   \n",
       "1  Jul  2  16:01:01  node1  run-parts(/etc/cron.hourly)[18436]:  starting   \n",
       "2  Jul  2  16:01:01  node1  run-parts(/etc/cron.hourly)[18445]:  finished   \n",
       "\n",
       "          6           7                  8     9    10    11            time  \n",
       "0       CMD  (run-parts  /etc/cron.hourly)  None  None  None  Jul 2 16:01:01  \n",
       "1  0anacron        None               None  None  None  None  Jul 2 16:01:01  \n",
       "2  0anacron        None               None  None  None  None  Jul 2 16:01:01  "
      ]
     },
     "execution_count": 119,
     "metadata": {},
     "output_type": "execute_result"
    }
   ],
   "source": [
    "df.head(3)"
   ]
  },
  {
   "cell_type": "code",
   "execution_count": 158,
   "metadata": {},
   "outputs": [
    {
     "data": {
      "text/plain": [
       "'2020-07-02 16:01:01'"
      ]
     },
     "execution_count": 158,
     "metadata": {},
     "output_type": "execute_result"
    }
   ],
   "source": [
    "def replace_2(val):\n",
    "    val = str(val)\n",
    "    val = val.replace('Jul ', '2020-07-0')\n",
    "    return val\n",
    "\n",
    "replace_2('Jul 2 16:01:01')"
   ]
  },
  {
   "cell_type": "code",
   "execution_count": 165,
   "metadata": {},
   "outputs": [],
   "source": [
    "# pd.to_datetime(df.time.apply(replace_2))\n",
    "df.time = pd.to_datetime(df.time.apply(replace_2), errors='ignore')"
   ]
  },
  {
   "cell_type": "code",
   "execution_count": 184,
   "metadata": {},
   "outputs": [
    {
     "data": {
      "image/png": "[encoded data removed]",
      "text/plain": [
       "<Figure size 1152x576 with 1 Axes>"
      ]
     },
     "metadata": {
      "needs_background": "light"
     },
     "output_type": "display_data"
    }
   ],
   "source": [
    "plt.figure(figsize=(16,8))\n",
    "plt.hist(\n",
    "    df[5], \n",
    "    bins=df[5].nunique(), \n",
    "    edgecolor='black',)\n",
    "plt.title('Распределение процессов')\n",
    "plt.show()"
   ]
  }
 ],
 "metadata": {
  "kernelspec": {
   "display_name": "Python 3",
   "language": "python",
   "name": "python3"
  },
  "language_info": {
   "codemirror_mode": {
    "name": "ipython",
    "version": 3
   },
   "file_extension": ".py",
   "mimetype": "text/x-python",
   "name": "python",
   "nbconvert_exporter": "python",
   "pygments_lexer": "ipython3",
   "version": "3.7.4"
  }
 },
 "nbformat": 4,
 "nbformat_minor": 2
}
