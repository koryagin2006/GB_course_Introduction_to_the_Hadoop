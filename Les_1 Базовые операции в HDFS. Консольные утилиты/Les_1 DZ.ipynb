{
 "cells": [
  {
   "cell_type": "markdown",
   "metadata": {},
   "source": [
    "# Опробовать rest-доступ для работы с кластером используя утилиту CURL используя python3 и библиотеку requests"
   ]
  },
  {
   "cell_type": "markdown",
   "metadata": {},
   "source": [
    "https://curl.trillworks.com/"
   ]
  },
  {
   "cell_type": "code",
   "execution_count": 1,
   "metadata": {},
   "outputs": [],
   "source": [
    "import requests\n",
    "import json\n",
    "from pprint import pprint"
   ]
  },
  {
   "cell_type": "markdown",
   "metadata": {},
   "source": [
    "```\n",
    "[centos@manager ~]$ curl -X GET 'http://node2.novalocal:14000/webhdfs/v1/acldir?user.name=hdfs&op=LISTSTATUS'\n",
    "{\"FileStatuses\":{\"FileStatus\":[]}}\n",
    "\n",
    "[centos@manager ~]$ curl -X GET 'http://node2.novalocal:14000/webhdfs/v1/acldir?user.name=hdfs&op=GETCONTENTSUMMARY'\n",
    "{\"ContentSummary\":{\"directoryCount\":1,\"fileCount\":0,\"length\":0,\"quota\":-1,\"spaceConsumed\":0,\"spaceQuota\":-1}}\n",
    "```"
   ]
  },
  {
   "cell_type": "code",
   "execution_count": 2,
   "metadata": {},
   "outputs": [
    {
     "name": "stdout",
     "output_type": "stream",
     "text": [
      "{'FileStatuses': {'FileStatus': [{'accessTime': 1590220509965,\n",
      "                                  'blockSize': 134217728,\n",
      "                                  'group': 'supergroup',\n",
      "                                  'length': 228578,\n",
      "                                  'modificationTime': 1590170128559,\n",
      "                                  'owner': 'student4_6',\n",
      "                                  'pathSuffix': 'PBI_Example.xlsx',\n",
      "                                  'permission': '644',\n",
      "                                  'replication': 2,\n",
      "                                  'type': 'FILE'}]}}\n"
     ]
    }
   ],
   "source": [
    "params = (\n",
    "#     ('delegation', TOKEN),\n",
    "    ('user.name', 'student4_6'),\n",
    "    ('op', 'LISTSTATUS'),\n",
    ")\n",
    "\n",
    "folder = 'student4_6/'\n",
    "response = requests.get(f'http://node2.novalocal:14000/webhdfs/v1/{folder}', params=params).text\n",
    "response = json.loads(response)\n",
    "pprint(response)"
   ]
  },
  {
   "cell_type": "code",
   "execution_count": 3,
   "metadata": {},
   "outputs": [
    {
     "name": "stdout",
     "output_type": "stream",
     "text": [
      "{'ContentSummary': {'directoryCount': 1,\n",
      "                    'fileCount': 1,\n",
      "                    'length': 228578,\n",
      "                    'quota': -1,\n",
      "                    'spaceConsumed': 457156,\n",
      "                    'spaceQuota': -1}}\n"
     ]
    }
   ],
   "source": [
    "params = (\n",
    "#     ('delegation', TOKEN),\n",
    "    ('user.name', 'student4_6'),\n",
    "    ('op', 'GETCONTENTSUMMARY'),\n",
    ")\n",
    "\n",
    "folder = 'student4_6/'\n",
    "response = requests.get(f'http://node2.novalocal:14000/webhdfs/v1/{folder}', params=params).text\n",
    "response = json.loads(response)\n",
    "pprint(response)"
   ]
  },
  {
   "cell_type": "markdown",
   "metadata": {},
   "source": [
    "# [Для любителей программирования] Достучаться до файловой системы используя python и библиотеку `libhdfs3`"
   ]
  },
  {
   "cell_type": "code",
   "execution_count": 1,
   "metadata": {},
   "outputs": [],
   "source": [
    "from hdfs3 import HDFileSystem\n",
    "import pandas as pd"
   ]
  },
  {
   "cell_type": "code",
   "execution_count": 2,
   "metadata": {},
   "outputs": [],
   "source": [
    "hdfs = HDFileSystem(\n",
    "    host='89.208.221.132', \n",
    "    port=8020)\n",
    "my_folder = '/student4_6/'"
   ]
  },
  {
   "cell_type": "markdown",
   "metadata": {},
   "source": [
    "https://hdfs3.readthedocs.io/en/latest/api.html"
   ]
  },
  {
   "cell_type": "code",
   "execution_count": 5,
   "metadata": {},
   "outputs": [
    {
     "name": "stdout",
     "output_type": "stream",
     "text": [
      "/student4_6/PBI_Example.xlsx\n",
      "/student4_6/folder_1\n"
     ]
    }
   ],
   "source": [
    "hdfs.mkdir(f'{my_folder}folder_1')"
   ]
  },
  {
   "cell_type": "code",
   "execution_count": 4,
   "metadata": {},
   "outputs": [
    {
     "data": {
      "text/plain": [
       "['/student4_6/PBI_Example.xlsx', '/student4_6/folder_1']"
      ]
     },
     "execution_count": 4,
     "metadata": {},
     "output_type": "execute_result"
    }
   ],
   "source": [
    "hdfs.ls(my_folder)"
   ]
  },
  {
   "cell_type": "code",
   "execution_count": 6,
   "metadata": {},
   "outputs": [
    {
     "ename": "AttributeError",
     "evalue": "'HDFileSystem' object has no attribute 'cp'",
     "output_type": "error",
     "traceback": [
      "\u001b[0;31m---------------------------------------------------------------------------\u001b[0m",
      "\u001b[0;31mAttributeError\u001b[0m                            Traceback (most recent call last)",
      "\u001b[0;32m<ipython-input-6-5f0f6024f571>\u001b[0m in \u001b[0;36m<module>\u001b[0;34m\u001b[0m\n\u001b[0;32m----> 1\u001b[0;31m \u001b[0mhdfs\u001b[0m\u001b[0;34m.\u001b[0m\u001b[0mcp\u001b[0m\u001b[0;34m(\u001b[0m\u001b[0;34m'/student4_6/PBI_Example.xlsx'\u001b[0m\u001b[0;34m,\u001b[0m \u001b[0;34m'/student4_6/folder_1/'\u001b[0m\u001b[0;34m)\u001b[0m\u001b[0;34m\u001b[0m\u001b[0;34m\u001b[0m\u001b[0m\n\u001b[0m",
      "\u001b[0;31mAttributeError\u001b[0m: 'HDFileSystem' object has no attribute 'cp'"
     ]
    }
   ],
   "source": [
    "hdfs.cp('/student4_6/PBI_Example.xlsx', '/student4_6/folder_1/')"
   ]
  },
  {
   "cell_type": "code",
   "execution_count": 7,
   "metadata": {},
   "outputs": [
    {
     "name": "stdout",
     "output_type": "stream",
     "text": [
      "{'/student4_6/PBI_Example.xlsx/': 228578}\n",
      "{}\n"
     ]
    }
   ],
   "source": [
    "for i in hdfs.ls(my_folder):\n",
    "    print(hdfs.du(path=i))"
   ]
  },
  {
   "cell_type": "code",
   "execution_count": 8,
   "metadata": {},
   "outputs": [
    {
     "data": {
      "text/html": [
       "<div>\n",
       "<style scoped>\n",
       "    .dataframe tbody tr th:only-of-type {\n",
       "        vertical-align: middle;\n",
       "    }\n",
       "\n",
       "    .dataframe tbody tr th {\n",
       "        vertical-align: top;\n",
       "    }\n",
       "\n",
       "    .dataframe thead th {\n",
       "        text-align: right;\n",
       "    }\n",
       "</style>\n",
       "<table border=\"1\" class=\"dataframe\">\n",
       "  <thead>\n",
       "    <tr style=\"text-align: right;\">\n",
       "      <th></th>\n",
       "      <th>Дата заказа</th>\n",
       "      <th>Артикул</th>\n",
       "      <th>Город</th>\n",
       "      <th>Название</th>\n",
       "      <th>Цена</th>\n",
       "      <th>Номер заказа</th>\n",
       "      <th>Промокод</th>\n",
       "      <th>Рекмламный канал</th>\n",
       "      <th>Клиент</th>\n",
       "    </tr>\n",
       "  </thead>\n",
       "  <tbody>\n",
       "    <tr>\n",
       "      <td>0</td>\n",
       "      <td>2019-09-01</td>\n",
       "      <td>1000006</td>\n",
       "      <td>Москва</td>\n",
       "      <td>Apple iPhone X</td>\n",
       "      <td>99000.0</td>\n",
       "      <td>26833563</td>\n",
       "      <td>SALE1</td>\n",
       "      <td>Facebook</td>\n",
       "      <td>Client_1022</td>\n",
       "    </tr>\n",
       "    <tr>\n",
       "      <td>1</td>\n",
       "      <td>2019-09-02</td>\n",
       "      <td>1000001</td>\n",
       "      <td>Екатеринбург</td>\n",
       "      <td>Apple iPad Pro</td>\n",
       "      <td>72900.0</td>\n",
       "      <td>6639184</td>\n",
       "      <td>SALE2</td>\n",
       "      <td>Facebook</td>\n",
       "      <td>Client_1023</td>\n",
       "    </tr>\n",
       "    <tr>\n",
       "      <td>2</td>\n",
       "      <td>2019-09-03</td>\n",
       "      <td>1000007</td>\n",
       "      <td>Санкт-Петербург</td>\n",
       "      <td>Apple iPad Mini 13</td>\n",
       "      <td>60900.0</td>\n",
       "      <td>59610264</td>\n",
       "      <td>SALE3</td>\n",
       "      <td>Facebook</td>\n",
       "      <td>Client_1029</td>\n",
       "    </tr>\n",
       "  </tbody>\n",
       "</table>\n",
       "</div>"
      ],
      "text/plain": [
       "  Дата заказа  Артикул            Город            Название     Цена  \\\n",
       "0  2019-09-01  1000006           Москва      Apple iPhone X  99000.0   \n",
       "1  2019-09-02  1000001     Екатеринбург      Apple iPad Pro  72900.0   \n",
       "2  2019-09-03  1000007  Санкт-Петербург  Apple iPad Mini 13  60900.0   \n",
       "\n",
       "   Номер заказа Промокод Рекмламный канал       Клиент  \n",
       "0      26833563    SALE1         Facebook  Client_1022  \n",
       "1       6639184    SALE2         Facebook  Client_1023  \n",
       "2      59610264    SALE3         Facebook  Client_1029  "
      ]
     },
     "execution_count": 8,
     "metadata": {},
     "output_type": "execute_result"
    }
   ],
   "source": [
    "with hdfs.open('/student4_6/PBI_Example.xlsx') as f:\n",
    "    df = pd.read_excel(f,nrows=300)\n",
    "df.head(3)"
   ]
  },
  {
   "cell_type": "code",
   "execution_count": 133,
   "metadata": {},
   "outputs": [],
   "source": [
    "# hdfs.mv(\n",
    "#     path1='/student4_6/PBI_Example.xlsx/',\n",
    "#     path2='/student4_6/PBI_2.xlsx', \n",
    "# )"
   ]
  },
  {
   "cell_type": "code",
   "execution_count": 90,
   "metadata": {},
   "outputs": [],
   "source": [
    "# hdfs.put('local-file.txt', '/user/data/remote-file.txt')"
   ]
  }
 ],
 "metadata": {
  "kernelspec": {
   "display_name": "Python 3",
   "language": "python",
   "name": "python3"
  }
 },
 "nbformat": 4,
 "nbformat_minor": 2
}
